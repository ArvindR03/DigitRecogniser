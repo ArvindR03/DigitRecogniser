{
  "nbformat": 4,
  "nbformat_minor": 0,
  "metadata": {
    "colab": {
      "name": "mnist_digit_nn.ipynb",
      "provenance": [],
      "collapsed_sections": []
    },
    "kernelspec": {
      "name": "python3",
      "display_name": "Python 3"
    }
  },
  "cells": [
    {
      "cell_type": "markdown",
      "metadata": {
        "id": "QysjXaP3S2OD"
      },
      "source": [
        "# **MNIST Digits Dataset**\r\n",
        "\r\n",
        "## *Information*\r\n",
        "This dataset has been used to train a deep neural network, which has ben exported to an H5 file for offline use on a local computer. The network was trained in the cloud using the below code.\r\n",
        "\r\n",
        "## Imports"
      ]
    },
    {
      "cell_type": "code",
      "metadata": {
        "id": "-1NsAUVaDcTZ"
      },
      "source": [
        "import tensorflow\r\n",
        "from tensorflow import keras\r\n",
        "import matplotlib.pyplot as plt\r\n",
        "import numpy as np"
      ],
      "execution_count": null,
      "outputs": []
    },
    {
      "cell_type": "markdown",
      "metadata": {
        "id": "_k1yexngTzNN"
      },
      "source": [
        "## Data"
      ]
    },
    {
      "cell_type": "code",
      "metadata": {
        "colab": {
          "base_uri": "https://localhost:8080/"
        },
        "id": "UY0opagtDmin",
        "outputId": "7427bbbf-73e8-4e52-99cd-ddee0d1676e8"
      },
      "source": [
        "data = keras.datasets.mnist\r\n",
        "(trainX, trainy), (testX, testy) = data.load_data()\r\n",
        "print(trainX.shape)\r\n",
        "print(trainX[0].shape)"
      ],
      "execution_count": null,
      "outputs": [
        {
          "output_type": "stream",
          "text": [
            "(60000, 28, 28)\n",
            "(28, 28)\n"
          ],
          "name": "stdout"
        }
      ]
    },
    {
      "cell_type": "code",
      "metadata": {
        "colab": {
          "base_uri": "https://localhost:8080/",
          "height": 1000
        },
        "id": "Cus3a2KSD7bL",
        "outputId": "2729bf10-5fad-4bef-dea3-17d65d2d38dd"
      },
      "source": [
        "for i in range(5):\r\n",
        "  img = trainX[i]\r\n",
        "  plt.imshow(img, cmap=plt.cm.gray)\r\n",
        "  plt.show()"
      ],
      "execution_count": null,
      "outputs": [
        {
          "output_type": "display_data",
          "data": {
            "image/png": "[encoded data removed]",
            "text/plain": [
              "<Figure size 432x288 with 1 Axes>"
            ]
          },
          "metadata": {
            "tags": [],
            "needs_background": "light"
          }
        },
        {
          "output_type": "display_data",
          "data": {
            "image/png": "[encoded data removed]",
            "text/plain": [
              "<Figure size 432x288 with 1 Axes>"
            ]
          },
          "metadata": {
            "tags": [],
            "needs_background": "light"
          }
        },
        {
          "output_type": "display_data",
          "data": {
            "image/png": "[encoded data removed]",
            "text/plain": [
              "<Figure size 432x288 with 1 Axes>"
            ]
          },
          "metadata": {
            "tags": [],
            "needs_background": "light"
          }
        },
        {
          "output_type": "display_data",
          "data": {
            "image/png": "[encoded data removed]",
            "text/plain": [
              "<Figure size 432x288 with 1 Axes>"
            ]
          },
          "metadata": {
            "tags": [],
            "needs_background": "light"
          }
        },
        {
          "output_type": "display_data",
          "data": {
            "image/png": "[encoded data removed]",
            "text/plain": [
              "<Figure size 432x288 with 1 Axes>"
            ]
          },
          "metadata": {
            "tags": [],
            "needs_background": "light"
          }
        }
      ]
    },
    {
      "cell_type": "markdown",
      "metadata": {
        "id": "8OPL7bx4T5Jl"
      },
      "source": [
        "## Data Normalisation"
      ]
    },
    {
      "cell_type": "code",
      "metadata": {
        "id": "JaHExnDYErLf"
      },
      "source": [
        "trainX = trainX / 255.0\r\n",
        "testX = testX / 255.0\r\n",
        "\r\n",
        "for image in trainX:\r\n",
        "  for row in image:\r\n",
        "    for col in row:\r\n",
        "      if col > 0.6:\r\n",
        "        col = 0.9\r\n",
        "      else:\r\n",
        "        col = 0\r\n",
        "\r\n",
        "for image in testX:\r\n",
        "  for row in image:\r\n",
        "    for col in row:\r\n",
        "      if col > 0.6:\r\n",
        "        col = 0.9\r\n",
        "      else:\r\n",
        "        col = 0"
      ],
      "execution_count": null,
      "outputs": []
    },
    {
      "cell_type": "markdown",
      "metadata": {
        "id": "sS7a9LnCT8ik"
      },
      "source": [
        "##Model"
      ]
    },
    {
      "cell_type": "code",
      "metadata": {
        "id": "AIzU8R-9F68k"
      },
      "source": [
        "model = keras.Sequential([\r\n",
        "    keras.layers.Flatten(),\r\n",
        "    keras.layers.Dense(128, activation='relu'),\r\n",
        "    keras.layers.Dense(56, activation='relu'),\r\n",
        "    keras.layers.Dense(10, activation='softmax')\r\n",
        "])\r\n",
        "\r\n",
        "model.compile(optimizer='adam', loss='sparse_categorical_crossentropy', metrics=['accuracy'])"
      ],
      "execution_count": null,
      "outputs": []
    },
    {
      "cell_type": "code",
      "metadata": {
        "colab": {
          "base_uri": "https://localhost:8080/"
        },
        "id": "IE2dcueoA_t8",
        "outputId": "be7e9871-3bb0-439a-cadf-b0d7b4f119b4"
      },
      "source": [
        "model.fit(trainX, trainy, epochs=7)"
      ],
      "execution_count": null,
      "outputs": [
        {
          "output_type": "stream",
          "text": [
            "Epoch 1/7\n",
            "1875/1875 [==============================] - 4s 2ms/step - loss: 0.4162 - accuracy: 0.8755\n",
            "Epoch 2/7\n",
            "1875/1875 [==============================] - 3s 2ms/step - loss: 0.1085 - accuracy: 0.9672\n",
            "Epoch 3/7\n",
            "1875/1875 [==============================] - 3s 2ms/step - loss: 0.0746 - accuracy: 0.9765\n",
            "Epoch 4/7\n",
            "1875/1875 [==============================] - 3s 2ms/step - loss: 0.0541 - accuracy: 0.9829\n",
            "Epoch 5/7\n",
            "1875/1875 [==============================] - 3s 2ms/step - loss: 0.0384 - accuracy: 0.9875\n",
            "Epoch 6/7\n",
            "1875/1875 [==============================] - 3s 2ms/step - loss: 0.0334 - accuracy: 0.9886\n",
            "Epoch 7/7\n",
            "1875/1875 [==============================] - 3s 2ms/step - loss: 0.0245 - accuracy: 0.9921\n"
          ],
          "name": "stdout"
        },
        {
          "output_type": "execute_result",
          "data": {
            "text/plain": [
              "<tensorflow.python.keras.callbacks.History at 0x7fa4be30db00>"
            ]
          },
          "metadata": {
            "tags": []
          },
          "execution_count": 15
        }
      ]
    },
    {
      "cell_type": "code",
      "metadata": {
        "colab": {
          "base_uri": "https://localhost:8080/",
          "height": 1000
        },
        "id": "zaeGtMZnRLHk",
        "outputId": "717808c9-2e6a-44c8-d09e-c71540a676e7"
      },
      "source": [
        "prediction = model.predict(testX)\r\n",
        "for i in range(5):\r\n",
        "  plt.imshow(testX[i], cmap=plt.cm.gray)\r\n",
        "  plt.title(f'Prediction is {np.argmax(prediction[i])}')\r\n",
        "  plt.show()"
      ],
      "execution_count": null,
      "outputs": [
        {
          "output_type": "display_data",
          "data": {
            "image/png": "[encoded data removed]",
            "text/plain": [
              "<Figure size 432x288 with 1 Axes>"
            ]
          },
          "metadata": {
            "tags": [],
            "needs_background": "light"
          }
        },
        {
          "output_type": "display_data",
          "data": {
            "image/png": "[encoded data removed]",
            "text/plain": [
              "<Figure size 432x288 with 1 Axes>"
            ]
          },
          "metadata": {
            "tags": [],
            "needs_background": "light"
          }
        },
        {
          "output_type": "display_data",
          "data": {
            "image/png": "[encoded data removed]",
            "text/plain": [
              "<Figure size 432x288 with 1 Axes>"
            ]
          },
          "metadata": {
            "tags": [],
            "needs_background": "light"
          }
        },
        {
          "output_type": "display_data",
          "data": {
            "image/png": "[encoded data removed]",
            "text/plain": [
              "<Figure size 432x288 with 1 Axes>"
            ]
          },
          "metadata": {
            "tags": [],
            "needs_background": "light"
          }
        },
        {
          "output_type": "display_data",
          "data": {
            "image/png": "[encoded data removed]",
            "text/plain": [
              "<Figure size 432x288 with 1 Axes>"
            ]
          },
          "metadata": {
            "tags": [],
            "needs_background": "light"
          }
        }
      ]
    },
    {
      "cell_type": "markdown",
      "metadata": {
        "id": "B6rTRW5QUBVU"
      },
      "source": [
        "## Evaluation"
      ]
    },
    {
      "cell_type": "code",
      "metadata": {
        "colab": {
          "base_uri": "https://localhost:8080/"
        },
        "id": "dQl7ORi0RxYS",
        "outputId": "658cf9ba-60ba-4833-ac4c-da3c04f8aacc"
      },
      "source": [
        "test_loss, test_acc = model.evaluate(testX, testy)\r\n",
        "print(test_acc)"
      ],
      "execution_count": null,
      "outputs": [
        {
          "output_type": "stream",
          "text": [
            "313/313 [==============================] - 0s 1ms/step - loss: 0.0822 - accuracy: 0.9759\n",
            "0.9758999943733215\n"
          ],
          "name": "stdout"
        }
      ]
    },
    {
      "cell_type": "markdown",
      "metadata": {
        "id": "o6Kpewg1UDcJ"
      },
      "source": [
        "## Exporting to H5 file"
      ]
    },
    {
      "cell_type": "code",
      "metadata": {
        "id": "BVwn-S3vUHIg",
        "colab": {
          "base_uri": "https://localhost:8080/"
        },
        "outputId": "5014b369-ed7f-4575-b291-d3b5b01b7194"
      },
      "source": [
        "model.save('nn.h5')\r\n",
        "testX[0][7]"
      ],
      "execution_count": null,
      "outputs": [
        {
          "output_type": "execute_result",
          "data": {
            "text/plain": [
              "array([0.        , 0.        , 0.        , 0.        , 0.        ,\n",
              "       0.        , 0.32941176, 0.7254902 , 0.62352941, 0.59215686,\n",
              "       0.23529412, 0.14117647, 0.        , 0.        , 0.        ,\n",
              "       0.        , 0.        , 0.        , 0.        , 0.        ,\n",
              "       0.        , 0.        , 0.        , 0.        , 0.        ,\n",
              "       0.        , 0.        , 0.        ])"
            ]
          },
          "metadata": {
            "tags": []
          },
          "execution_count": 19
        }
      ]
    }
  ]
}